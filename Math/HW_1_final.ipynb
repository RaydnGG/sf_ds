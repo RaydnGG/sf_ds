{
 "cells": [
  {
   "cell_type": "code",
   "execution_count": 368,
   "metadata": {},
   "outputs": [],
   "source": [
    "import numpy as np \n",
    "import pandas as pd \n",
    "import seaborn as sns \n",
    "import matplotlib.pyplot as plt \n",
    "%matplotlib inline\n",
    "from sklearn.preprocessing import PolynomialFeatures\n",
    "from sklearn.metrics import mean_absolute_percentage_error\n",
    "from sklearn.linear_model import LinearRegression\n",
    "from sklearn.metrics import r2_score\n",
    "from sklearn.model_selection import cross_validate\n",
    "from sklearn.linear_model import Ridge\n",
    "from sklearn.preprocessing import StandardScaler\n",
    "from sklearn.linear_model import Lasso\n",
    "from sklearn.linear_model import ElasticNet"
   ]
  },
  {
   "cell_type": "code",
   "execution_count": 369,
   "metadata": {},
   "outputs": [
    {
     "data": {
      "text/html": [
       "<div>\n",
       "<style scoped>\n",
       "    .dataframe tbody tr th:only-of-type {\n",
       "        vertical-align: middle;\n",
       "    }\n",
       "\n",
       "    .dataframe tbody tr th {\n",
       "        vertical-align: top;\n",
       "    }\n",
       "\n",
       "    .dataframe thead th {\n",
       "        text-align: right;\n",
       "    }\n",
       "</style>\n",
       "<table border=\"1\" class=\"dataframe\">\n",
       "  <thead>\n",
       "    <tr style=\"text-align: right;\">\n",
       "      <th></th>\n",
       "      <th>Well</th>\n",
       "      <th>Por</th>\n",
       "      <th>Perm</th>\n",
       "      <th>AI</th>\n",
       "      <th>Brittle</th>\n",
       "      <th>TOC</th>\n",
       "      <th>VR</th>\n",
       "      <th>Prod</th>\n",
       "    </tr>\n",
       "  </thead>\n",
       "  <tbody>\n",
       "    <tr>\n",
       "      <th>0</th>\n",
       "      <td>1</td>\n",
       "      <td>12.08</td>\n",
       "      <td>2.92</td>\n",
       "      <td>2.80</td>\n",
       "      <td>81.40</td>\n",
       "      <td>1.16</td>\n",
       "      <td>2.31</td>\n",
       "      <td>4165.196191</td>\n",
       "    </tr>\n",
       "    <tr>\n",
       "      <th>1</th>\n",
       "      <td>2</td>\n",
       "      <td>12.38</td>\n",
       "      <td>3.53</td>\n",
       "      <td>3.22</td>\n",
       "      <td>46.17</td>\n",
       "      <td>0.89</td>\n",
       "      <td>1.88</td>\n",
       "      <td>3561.146205</td>\n",
       "    </tr>\n",
       "    <tr>\n",
       "      <th>2</th>\n",
       "      <td>3</td>\n",
       "      <td>14.02</td>\n",
       "      <td>2.59</td>\n",
       "      <td>4.01</td>\n",
       "      <td>72.80</td>\n",
       "      <td>0.89</td>\n",
       "      <td>2.72</td>\n",
       "      <td>4284.348574</td>\n",
       "    </tr>\n",
       "    <tr>\n",
       "      <th>3</th>\n",
       "      <td>4</td>\n",
       "      <td>17.67</td>\n",
       "      <td>6.75</td>\n",
       "      <td>2.63</td>\n",
       "      <td>39.81</td>\n",
       "      <td>1.08</td>\n",
       "      <td>1.88</td>\n",
       "      <td>5098.680869</td>\n",
       "    </tr>\n",
       "    <tr>\n",
       "      <th>4</th>\n",
       "      <td>5</td>\n",
       "      <td>17.52</td>\n",
       "      <td>4.57</td>\n",
       "      <td>3.18</td>\n",
       "      <td>10.94</td>\n",
       "      <td>1.51</td>\n",
       "      <td>1.90</td>\n",
       "      <td>3406.132832</td>\n",
       "    </tr>\n",
       "    <tr>\n",
       "      <th>...</th>\n",
       "      <td>...</td>\n",
       "      <td>...</td>\n",
       "      <td>...</td>\n",
       "      <td>...</td>\n",
       "      <td>...</td>\n",
       "      <td>...</td>\n",
       "      <td>...</td>\n",
       "      <td>...</td>\n",
       "    </tr>\n",
       "    <tr>\n",
       "      <th>195</th>\n",
       "      <td>196</td>\n",
       "      <td>11.95</td>\n",
       "      <td>3.13</td>\n",
       "      <td>2.97</td>\n",
       "      <td>67.18</td>\n",
       "      <td>0.80</td>\n",
       "      <td>2.06</td>\n",
       "      <td>3847.571003</td>\n",
       "    </tr>\n",
       "    <tr>\n",
       "      <th>196</th>\n",
       "      <td>197</td>\n",
       "      <td>17.99</td>\n",
       "      <td>9.87</td>\n",
       "      <td>3.38</td>\n",
       "      <td>44.32</td>\n",
       "      <td>0.98</td>\n",
       "      <td>2.08</td>\n",
       "      <td>5601.227131</td>\n",
       "    </tr>\n",
       "    <tr>\n",
       "      <th>197</th>\n",
       "      <td>198</td>\n",
       "      <td>12.12</td>\n",
       "      <td>2.27</td>\n",
       "      <td>3.52</td>\n",
       "      <td>57.07</td>\n",
       "      <td>-0.04</td>\n",
       "      <td>1.73</td>\n",
       "      <td>3409.575363</td>\n",
       "    </tr>\n",
       "    <tr>\n",
       "      <th>198</th>\n",
       "      <td>199</td>\n",
       "      <td>15.55</td>\n",
       "      <td>4.48</td>\n",
       "      <td>2.48</td>\n",
       "      <td>58.25</td>\n",
       "      <td>1.89</td>\n",
       "      <td>2.35</td>\n",
       "      <td>5087.592149</td>\n",
       "    </tr>\n",
       "    <tr>\n",
       "      <th>199</th>\n",
       "      <td>200</td>\n",
       "      <td>20.89</td>\n",
       "      <td>7.54</td>\n",
       "      <td>3.23</td>\n",
       "      <td>46.17</td>\n",
       "      <td>1.71</td>\n",
       "      <td>2.27</td>\n",
       "      <td>6662.622385</td>\n",
       "    </tr>\n",
       "  </tbody>\n",
       "</table>\n",
       "<p>200 rows × 8 columns</p>\n",
       "</div>"
      ],
      "text/plain": [
       "     Well    Por  Perm    AI  Brittle   TOC    VR         Prod\n",
       "0       1  12.08  2.92  2.80    81.40  1.16  2.31  4165.196191\n",
       "1       2  12.38  3.53  3.22    46.17  0.89  1.88  3561.146205\n",
       "2       3  14.02  2.59  4.01    72.80  0.89  2.72  4284.348574\n",
       "3       4  17.67  6.75  2.63    39.81  1.08  1.88  5098.680869\n",
       "4       5  17.52  4.57  3.18    10.94  1.51  1.90  3406.132832\n",
       "..    ...    ...   ...   ...      ...   ...   ...          ...\n",
       "195   196  11.95  3.13  2.97    67.18  0.80  2.06  3847.571003\n",
       "196   197  17.99  9.87  3.38    44.32  0.98  2.08  5601.227131\n",
       "197   198  12.12  2.27  3.52    57.07 -0.04  1.73  3409.575363\n",
       "198   199  15.55  4.48  2.48    58.25  1.89  2.35  5087.592149\n",
       "199   200  20.89  7.54  3.23    46.17  1.71  2.27  6662.622385\n",
       "\n",
       "[200 rows x 8 columns]"
      ]
     },
     "execution_count": 369,
     "metadata": {},
     "output_type": "execute_result"
    }
   ],
   "source": [
    "#откроем данные\n",
    "data = pd.read_csv('unconv.csv')\n",
    "data"
   ]
  },
  {
   "cell_type": "markdown",
   "metadata": {},
   "source": [
    "## Задание 2.1"
   ]
  },
  {
   "cell_type": "code",
   "execution_count": 370,
   "metadata": {},
   "outputs": [
    {
     "data": {
      "text/html": [
       "<div>\n",
       "<style scoped>\n",
       "    .dataframe tbody tr th:only-of-type {\n",
       "        vertical-align: middle;\n",
       "    }\n",
       "\n",
       "    .dataframe tbody tr th {\n",
       "        vertical-align: top;\n",
       "    }\n",
       "\n",
       "    .dataframe thead th {\n",
       "        text-align: right;\n",
       "    }\n",
       "</style>\n",
       "<table border=\"1\" class=\"dataframe\">\n",
       "  <thead>\n",
       "    <tr style=\"text-align: right;\">\n",
       "      <th></th>\n",
       "      <th>Well</th>\n",
       "      <th>Por</th>\n",
       "      <th>Perm</th>\n",
       "      <th>AI</th>\n",
       "      <th>Brittle</th>\n",
       "      <th>TOC</th>\n",
       "      <th>VR</th>\n",
       "      <th>Prod</th>\n",
       "    </tr>\n",
       "  </thead>\n",
       "  <tbody>\n",
       "    <tr>\n",
       "      <th>Well</th>\n",
       "      <td>1.000000</td>\n",
       "      <td>0.068927</td>\n",
       "      <td>0.077928</td>\n",
       "      <td>0.041483</td>\n",
       "      <td>-0.079252</td>\n",
       "      <td>0.022624</td>\n",
       "      <td>-0.007279</td>\n",
       "      <td>0.026817</td>\n",
       "    </tr>\n",
       "    <tr>\n",
       "      <th>Por</th>\n",
       "      <td>0.068927</td>\n",
       "      <td>1.000000</td>\n",
       "      <td>0.760546</td>\n",
       "      <td>-0.461549</td>\n",
       "      <td>-0.218570</td>\n",
       "      <td>0.711831</td>\n",
       "      <td>0.111860</td>\n",
       "      <td>0.861910</td>\n",
       "    </tr>\n",
       "    <tr>\n",
       "      <th>Perm</th>\n",
       "      <td>0.077928</td>\n",
       "      <td>0.760546</td>\n",
       "      <td>1.000000</td>\n",
       "      <td>-0.239636</td>\n",
       "      <td>-0.124017</td>\n",
       "      <td>0.471746</td>\n",
       "      <td>0.051023</td>\n",
       "      <td>0.727426</td>\n",
       "    </tr>\n",
       "    <tr>\n",
       "      <th>AI</th>\n",
       "      <td>0.041483</td>\n",
       "      <td>-0.461549</td>\n",
       "      <td>-0.239636</td>\n",
       "      <td>1.000000</td>\n",
       "      <td>0.127599</td>\n",
       "      <td>-0.531864</td>\n",
       "      <td>0.499143</td>\n",
       "      <td>-0.390835</td>\n",
       "    </tr>\n",
       "    <tr>\n",
       "      <th>Brittle</th>\n",
       "      <td>-0.079252</td>\n",
       "      <td>-0.218570</td>\n",
       "      <td>-0.124017</td>\n",
       "      <td>0.127599</td>\n",
       "      <td>1.000000</td>\n",
       "      <td>-0.214282</td>\n",
       "      <td>0.317929</td>\n",
       "      <td>0.237155</td>\n",
       "    </tr>\n",
       "    <tr>\n",
       "      <th>TOC</th>\n",
       "      <td>0.022624</td>\n",
       "      <td>0.711831</td>\n",
       "      <td>0.471746</td>\n",
       "      <td>-0.531864</td>\n",
       "      <td>-0.214282</td>\n",
       "      <td>1.000000</td>\n",
       "      <td>0.299483</td>\n",
       "      <td>0.654445</td>\n",
       "    </tr>\n",
       "    <tr>\n",
       "      <th>VR</th>\n",
       "      <td>-0.007279</td>\n",
       "      <td>0.111860</td>\n",
       "      <td>0.051023</td>\n",
       "      <td>0.499143</td>\n",
       "      <td>0.317929</td>\n",
       "      <td>0.299483</td>\n",
       "      <td>1.000000</td>\n",
       "      <td>0.323182</td>\n",
       "    </tr>\n",
       "    <tr>\n",
       "      <th>Prod</th>\n",
       "      <td>0.026817</td>\n",
       "      <td>0.861910</td>\n",
       "      <td>0.727426</td>\n",
       "      <td>-0.390835</td>\n",
       "      <td>0.237155</td>\n",
       "      <td>0.654445</td>\n",
       "      <td>0.323182</td>\n",
       "      <td>1.000000</td>\n",
       "    </tr>\n",
       "  </tbody>\n",
       "</table>\n",
       "</div>"
      ],
      "text/plain": [
       "             Well       Por      Perm        AI   Brittle       TOC        VR  \\\n",
       "Well     1.000000  0.068927  0.077928  0.041483 -0.079252  0.022624 -0.007279   \n",
       "Por      0.068927  1.000000  0.760546 -0.461549 -0.218570  0.711831  0.111860   \n",
       "Perm     0.077928  0.760546  1.000000 -0.239636 -0.124017  0.471746  0.051023   \n",
       "AI       0.041483 -0.461549 -0.239636  1.000000  0.127599 -0.531864  0.499143   \n",
       "Brittle -0.079252 -0.218570 -0.124017  0.127599  1.000000 -0.214282  0.317929   \n",
       "TOC      0.022624  0.711831  0.471746 -0.531864 -0.214282  1.000000  0.299483   \n",
       "VR      -0.007279  0.111860  0.051023  0.499143  0.317929  0.299483  1.000000   \n",
       "Prod     0.026817  0.861910  0.727426 -0.390835  0.237155  0.654445  0.323182   \n",
       "\n",
       "             Prod  \n",
       "Well     0.026817  \n",
       "Por      0.861910  \n",
       "Perm     0.727426  \n",
       "AI      -0.390835  \n",
       "Brittle  0.237155  \n",
       "TOC      0.654445  \n",
       "VR       0.323182  \n",
       "Prod     1.000000  "
      ]
     },
     "execution_count": 370,
     "metadata": {},
     "output_type": "execute_result"
    }
   ],
   "source": [
    "#Постройте корреляционную матрицу факторов, включив в неё целевой признак.\n",
    "corr_matrix = data.corr(method='pearson')\n",
    "corr_matrix"
   ]
  },
  {
   "cell_type": "code",
   "execution_count": 371,
   "metadata": {},
   "outputs": [
    {
     "data": {
      "text/plain": [
       "8"
      ]
     },
     "execution_count": 371,
     "metadata": {},
     "output_type": "execute_result"
    }
   ],
   "source": [
    "#Вычислите ранг полученной матрицы корреляций\n",
    "np.linalg.matrix_rank(corr_matrix)"
   ]
  },
  {
   "cell_type": "code",
   "execution_count": 372,
   "metadata": {},
   "outputs": [
    {
     "data": {
      "text/plain": [
       "0.0007299388072652095"
      ]
     },
     "execution_count": 372,
     "metadata": {},
     "output_type": "execute_result"
    }
   ],
   "source": [
    "#Вычислите определитель матрицы корреляций\n",
    "np.linalg.det(corr_matrix)"
   ]
  },
  {
   "cell_type": "markdown",
   "metadata": {},
   "source": [
    "## Задание 2.2"
   ]
  },
  {
   "cell_type": "code",
   "execution_count": 373,
   "metadata": {},
   "outputs": [],
   "source": [
    "#Создайте матрицу наблюдений. Обозначьте её за X, а вектор правильных ответов — за y .\n",
    "#Срез факторов без целевого признака\n",
    "x = data.iloc[:,:-1]            \n",
    "       \n",
    "#Добавляем в матрицу стол единиц, для корректной работы формулы\n",
    "ones = np.ones((data.shape[0],1))     \n",
    "X = np.hstack((ones, x))\n",
    "\n",
    "#Вектор целевого\n",
    "y = data['Prod'].values               "
   ]
  },
  {
   "cell_type": "code",
   "execution_count": 374,
   "metadata": {},
   "outputs": [
    {
     "name": "stdout",
     "output_type": "stream",
     "text": [
      "OLS коэффициенты\n"
     ]
    },
    {
     "data": {
      "text/html": [
       "<div>\n",
       "<style scoped>\n",
       "    .dataframe tbody tr th:only-of-type {\n",
       "        vertical-align: middle;\n",
       "    }\n",
       "\n",
       "    .dataframe tbody tr th {\n",
       "        vertical-align: top;\n",
       "    }\n",
       "\n",
       "    .dataframe thead th {\n",
       "        text-align: right;\n",
       "    }\n",
       "</style>\n",
       "<table border=\"1\" class=\"dataframe\">\n",
       "  <thead>\n",
       "    <tr style=\"text-align: right;\">\n",
       "      <th></th>\n",
       "      <th>w_hat</th>\n",
       "    </tr>\n",
       "  </thead>\n",
       "  <tbody>\n",
       "    <tr>\n",
       "      <th>Zeros</th>\n",
       "      <td>-1232.308030</td>\n",
       "    </tr>\n",
       "    <tr>\n",
       "      <th>Well</th>\n",
       "      <td>0.050700</td>\n",
       "    </tr>\n",
       "    <tr>\n",
       "      <th>Por</th>\n",
       "      <td>230.179140</td>\n",
       "    </tr>\n",
       "    <tr>\n",
       "      <th>Perm</th>\n",
       "      <td>116.239006</td>\n",
       "    </tr>\n",
       "    <tr>\n",
       "      <th>AI</th>\n",
       "      <td>-365.202301</td>\n",
       "    </tr>\n",
       "    <tr>\n",
       "      <th>Brittle</th>\n",
       "      <td>24.994370</td>\n",
       "    </tr>\n",
       "    <tr>\n",
       "      <th>TOC</th>\n",
       "      <td>-78.400929</td>\n",
       "    </tr>\n",
       "    <tr>\n",
       "      <th>VR</th>\n",
       "      <td>785.259815</td>\n",
       "    </tr>\n",
       "  </tbody>\n",
       "</table>\n",
       "</div>"
      ],
      "text/plain": [
       "               w_hat\n",
       "Zeros   -1232.308030\n",
       "Well        0.050700\n",
       "Por       230.179140\n",
       "Perm      116.239006\n",
       "AI       -365.202301\n",
       "Brittle    24.994370\n",
       "TOC       -78.400929\n",
       "VR        785.259815"
      ]
     },
     "metadata": {},
     "output_type": "display_data"
    }
   ],
   "source": [
    "#Постройте модель линейной регрессии по методу наименьших квадратов. \n",
    "#Для этого используйте матричную формулу NumPy. \n",
    "#В качестве ответа укажите полученные оценки коэффициентов модели\n",
    "w_hat = np.linalg.inv(X.T@X)@X.T@y   #используя формулу получаем коэффициенты\n",
    "w = pd.DataFrame(w_hat,index = ['Zeros','Well','Por','Perm','AI','Brittle','TOC','VR'],  columns=['w_hat'])\n",
    "print('OLS коэффициенты')\n",
    "display(w)\n",
    "\n"
   ]
  },
  {
   "cell_type": "markdown",
   "metadata": {},
   "source": [
    "## Задание 2.3"
   ]
  },
  {
   "cell_type": "code",
   "execution_count": 375,
   "metadata": {},
   "outputs": [
    {
     "name": "stdout",
     "output_type": "stream",
     "text": [
      "Вектор признаков:[  1.   106.    15.32   3.71   3.29  55.99   1.35   2.42]\n",
      "Прогноз целевого значения по новым данным: 4723.06405370718\n",
      "Абсолютная ошибка прогноза для целевого значения новой скважины: 25.0 mcf/day\n"
     ]
    }
   ],
   "source": [
    "#Постройте прогноз выработки газа для скважины с параметрами, указанными ниже.\n",
    "#Чему равна абсолютная ошибка построенного вами прогноза для предложенной скважины ?(в миллионах кубических футов в день).\n",
    "new_array = np.array([106, 15.32, 3.71, 3.29, 55.99, 1.35, 2.42, 4748.315024])\n",
    "w_hat_new = np.insert(new_array[:-1], 0, 1)\n",
    "prediction = w_hat_new@w_hat\n",
    "print(f'Вектор признаков:{w_hat_new}')\n",
    "print(f'Прогноз целевого значения по новым данным: {prediction}')\n",
    "error_new_prod = np.round(np.abs(new_array[-1] - prediction))\n",
    "\n",
    "print(f'Абсолютная ошибка прогноза для целевого значения новой скважины: {error_new_prod} mcf/day')\n",
    "\n"
   ]
  },
  {
   "cell_type": "markdown",
   "metadata": {},
   "source": [
    "Метрика MAPE:"
   ]
  },
  {
   "cell_type": "markdown",
   "metadata": {},
   "source": [
    "![](https://miro.medium.com/max/596/1*vmIM1jePXsDxPpgWEQ35Lg.png)"
   ]
  },
  {
   "cell_type": "code",
   "execution_count": 376,
   "metadata": {},
   "outputs": [
    {
     "data": {
      "text/plain": [
       "3.6279468451339723"
      ]
     },
     "execution_count": 376,
     "metadata": {},
     "output_type": "execute_result"
    }
   ],
   "source": [
    "#Постройте прогноз выработки газа для всех скважин из обучающего набора данных. \n",
    "#Чему равно значение метрики MAPE вашей модели?\n",
    "y_predictions = X@w_hat\n",
    "y_predictions_df = pd.DataFrame(y_predictions,index = range(1,201), columns=['Prod predict'])\n",
    "MAPE =np.mean((abs(y - y_predictions) / y))*100\n",
    "MAPE\n",
    "\n"
   ]
  },
  {
   "cell_type": "markdown",
   "metadata": {},
   "source": [
    "## Задание 2.5"
   ]
  },
  {
   "cell_type": "code",
   "execution_count": 377,
   "metadata": {},
   "outputs": [
    {
     "name": "stdout",
     "output_type": "stream",
     "text": [
      "Топ факторов по коллинеарности:\n"
     ]
    },
    {
     "data": {
      "text/plain": [
       "Por        0.760546\n",
       "Perm       0.760546\n",
       "TOC        0.711831\n",
       "AI         0.531864\n",
       "VR         0.499143\n",
       "Brittle    0.317929\n",
       "Well       0.079252\n",
       "dtype: float64"
      ]
     },
     "metadata": {},
     "output_type": "display_data"
    },
    {
     "name": "stdout",
     "output_type": "stream",
     "text": [
      "Топ признаков по корреляции с таргетом:\n"
     ]
    },
    {
     "data": {
      "text/plain": [
       "Por        0.861910\n",
       "Perm       0.727426\n",
       "TOC        0.654445\n",
       "VR         0.323182\n",
       "Brittle    0.237155\n",
       "Well       0.026817\n",
       "AI         0.390835\n",
       "Name: Prod, dtype: float64"
      ]
     },
     "metadata": {},
     "output_type": "display_data"
    },
    {
     "name": "stdout",
     "output_type": "stream",
     "text": [
      "Отредактированный набор данных:\n"
     ]
    },
    {
     "data": {
      "text/html": [
       "<div>\n",
       "<style scoped>\n",
       "    .dataframe tbody tr th:only-of-type {\n",
       "        vertical-align: middle;\n",
       "    }\n",
       "\n",
       "    .dataframe tbody tr th {\n",
       "        vertical-align: top;\n",
       "    }\n",
       "\n",
       "    .dataframe thead th {\n",
       "        text-align: right;\n",
       "    }\n",
       "</style>\n",
       "<table border=\"1\" class=\"dataframe\">\n",
       "  <thead>\n",
       "    <tr style=\"text-align: right;\">\n",
       "      <th></th>\n",
       "      <th>Por</th>\n",
       "      <th>AI</th>\n",
       "      <th>Brittle</th>\n",
       "      <th>VR</th>\n",
       "      <th>Prod</th>\n",
       "    </tr>\n",
       "  </thead>\n",
       "  <tbody>\n",
       "    <tr>\n",
       "      <th>0</th>\n",
       "      <td>12.08</td>\n",
       "      <td>2.80</td>\n",
       "      <td>81.40</td>\n",
       "      <td>2.31</td>\n",
       "      <td>4165.196191</td>\n",
       "    </tr>\n",
       "    <tr>\n",
       "      <th>1</th>\n",
       "      <td>12.38</td>\n",
       "      <td>3.22</td>\n",
       "      <td>46.17</td>\n",
       "      <td>1.88</td>\n",
       "      <td>3561.146205</td>\n",
       "    </tr>\n",
       "    <tr>\n",
       "      <th>2</th>\n",
       "      <td>14.02</td>\n",
       "      <td>4.01</td>\n",
       "      <td>72.80</td>\n",
       "      <td>2.72</td>\n",
       "      <td>4284.348574</td>\n",
       "    </tr>\n",
       "    <tr>\n",
       "      <th>3</th>\n",
       "      <td>17.67</td>\n",
       "      <td>2.63</td>\n",
       "      <td>39.81</td>\n",
       "      <td>1.88</td>\n",
       "      <td>5098.680869</td>\n",
       "    </tr>\n",
       "    <tr>\n",
       "      <th>4</th>\n",
       "      <td>17.52</td>\n",
       "      <td>3.18</td>\n",
       "      <td>10.94</td>\n",
       "      <td>1.90</td>\n",
       "      <td>3406.132832</td>\n",
       "    </tr>\n",
       "    <tr>\n",
       "      <th>...</th>\n",
       "      <td>...</td>\n",
       "      <td>...</td>\n",
       "      <td>...</td>\n",
       "      <td>...</td>\n",
       "      <td>...</td>\n",
       "    </tr>\n",
       "    <tr>\n",
       "      <th>195</th>\n",
       "      <td>11.95</td>\n",
       "      <td>2.97</td>\n",
       "      <td>67.18</td>\n",
       "      <td>2.06</td>\n",
       "      <td>3847.571003</td>\n",
       "    </tr>\n",
       "    <tr>\n",
       "      <th>196</th>\n",
       "      <td>17.99</td>\n",
       "      <td>3.38</td>\n",
       "      <td>44.32</td>\n",
       "      <td>2.08</td>\n",
       "      <td>5601.227131</td>\n",
       "    </tr>\n",
       "    <tr>\n",
       "      <th>197</th>\n",
       "      <td>12.12</td>\n",
       "      <td>3.52</td>\n",
       "      <td>57.07</td>\n",
       "      <td>1.73</td>\n",
       "      <td>3409.575363</td>\n",
       "    </tr>\n",
       "    <tr>\n",
       "      <th>198</th>\n",
       "      <td>15.55</td>\n",
       "      <td>2.48</td>\n",
       "      <td>58.25</td>\n",
       "      <td>2.35</td>\n",
       "      <td>5087.592149</td>\n",
       "    </tr>\n",
       "    <tr>\n",
       "      <th>199</th>\n",
       "      <td>20.89</td>\n",
       "      <td>3.23</td>\n",
       "      <td>46.17</td>\n",
       "      <td>2.27</td>\n",
       "      <td>6662.622385</td>\n",
       "    </tr>\n",
       "  </tbody>\n",
       "</table>\n",
       "<p>200 rows × 5 columns</p>\n",
       "</div>"
      ],
      "text/plain": [
       "       Por    AI  Brittle    VR         Prod\n",
       "0    12.08  2.80    81.40  2.31  4165.196191\n",
       "1    12.38  3.22    46.17  1.88  3561.146205\n",
       "2    14.02  4.01    72.80  2.72  4284.348574\n",
       "3    17.67  2.63    39.81  1.88  5098.680869\n",
       "4    17.52  3.18    10.94  1.90  3406.132832\n",
       "..     ...   ...      ...   ...          ...\n",
       "195  11.95  2.97    67.18  2.06  3847.571003\n",
       "196  17.99  3.38    44.32  2.08  5601.227131\n",
       "197  12.12  3.52    57.07  1.73  3409.575363\n",
       "198  15.55  2.48    58.25  2.35  5087.592149\n",
       "199  20.89  3.23    46.17  2.27  6662.622385\n",
       "\n",
       "[200 rows x 5 columns]"
      ]
     },
     "metadata": {},
     "output_type": "display_data"
    }
   ],
   "source": [
    "#Исключите из данных сильно коррелированные между собой факторы.\n",
    "# Удаляем столбец 'Prod' и считаем корреляционную матрицу\n",
    "features = data.drop('Prod', axis=1)\n",
    "features_corr = features.corr()\n",
    "\n",
    "# Обнуляем диагональные элементы матрицы корреляции\n",
    "np.fill_diagonal(features_corr.values, 0)\n",
    "\n",
    "# Вычисляем максимальную абсолютную корреляцию для каждого признака\n",
    "features_corr_top = features_corr.abs().max().sort_values(ascending=False)\n",
    "\n",
    "# Выводим результат\n",
    "print('Топ факторов по коллинеарности:')\n",
    "display(features_corr_top)\n",
    "\n",
    "#Список признаков с корреляцией меньше 0.7 между собой\n",
    "features_corr_below_07 = features_corr_top[features_corr_top < 0.7]\n",
    "\n",
    "#Топ корреляций к целевому\n",
    "#Удаляем Prod в строках и смотрим именно столбец Prod, сорируем\n",
    "high_corr_to_target = corr_matrix.drop('Prod', axis=0)['Prod'].sort_values(ascending=False).abs()\n",
    "\n",
    "#Выводим резулбтат\n",
    "print('Топ признаков по корреляции с таргетом:')\n",
    "display(high_corr_to_target)\n",
    "\n",
    "#Конечный список признаков при выполнении двух условий: корреляция к таргету > 0.05 и внутренняя корреляция < 0.7\n",
    "final_features = data.copy().drop(['Perm', 'Well', 'TOC'], axis = 1)\n",
    "print('Отредактированный набор данных:')\n",
    "display(final_features)\n"
   ]
  },
  {
   "cell_type": "code",
   "execution_count": 378,
   "metadata": {},
   "outputs": [
    {
     "data": {
      "text/plain": [
       "(200, 5)"
      ]
     },
     "execution_count": 378,
     "metadata": {},
     "output_type": "execute_result"
    }
   ],
   "source": [
    "final_features.shape"
   ]
  },
  {
   "cell_type": "code",
   "execution_count": 379,
   "metadata": {},
   "outputs": [
    {
     "data": {
      "text/plain": [
       "array([-1835.44646069,   293.03624565,  -200.03091206,    27.64098209,\n",
       "         517.40272597])"
      ]
     },
     "metadata": {},
     "output_type": "display_data"
    }
   ],
   "source": [
    "#Постройте линейную регрессию на обновлённых после удаления факторов данных по методу наименьших квадратов. \n",
    "#Срез факторов без целевого признака\n",
    "x = final_features.iloc[:,:-1].values   \n",
    "ones = np.ones((final_features.shape[0],1))     \n",
    "X = np.hstack((ones, x))\n",
    "\n",
    "\n",
    "#Вектор целевого\n",
    "y = data['Prod'].values \n",
    "\n",
    "#OLS оценка для коэффициентов\n",
    "w_hat = np.linalg.inv(X.T@X)@X.T@y   #используя формулу получаем коэффициенты\n",
    "display(w_hat)\n",
    "\n"
   ]
  },
  {
   "cell_type": "code",
   "execution_count": 380,
   "metadata": {},
   "outputs": [
    {
     "data": {
      "text/plain": [
       "4.04413842043617"
      ]
     },
     "metadata": {},
     "output_type": "display_data"
    },
    {
     "name": "stdout",
     "output_type": "stream",
     "text": [
      "Определитель обновленной матрицы корреляций:\n",
      "0.0202\n"
     ]
    }
   ],
   "source": [
    "# Сделайте прогноз для всего обучающего набора данных и рассчитайте метрику MAPE (Mean Absolute Percentage Error).\n",
    "#Повторно считаем метрику на основе новых данных\n",
    "y_predictions_new = X@w_hat\n",
    "y_predictions_new_df = pd.DataFrame(y_predictions_new,index = range(1,201), columns=['Prod predict'])\n",
    "MAPE = np.mean((abs(y - y_predictions_new) / y))*100\n",
    "#Выводим результат\n",
    "display(MAPE)\n",
    "upd_corr_matrix = final_features.corr()\n",
    "print('Определитель обновленной матрицы корреляций:')\n",
    "print(np.round(np.linalg.det(upd_corr_matrix), 4))\n"
   ]
  },
  {
   "cell_type": "markdown",
   "metadata": {},
   "source": [
    "Определитель вырос, а это значит:  \n",
    "-признаки стали менее коррелированными (снизилась мультиколлинеарность)  \n",
    "-столбцы стали более линейно независимыми"
   ]
  },
  {
   "cell_type": "markdown",
   "metadata": {},
   "source": [
    "## Задание 3.1"
   ]
  },
  {
   "cell_type": "code",
   "execution_count": 381,
   "metadata": {},
   "outputs": [
    {
     "data": {
      "text/html": [
       "<div>\n",
       "<style scoped>\n",
       "    .dataframe tbody tr th:only-of-type {\n",
       "        vertical-align: middle;\n",
       "    }\n",
       "\n",
       "    .dataframe tbody tr th {\n",
       "        vertical-align: top;\n",
       "    }\n",
       "\n",
       "    .dataframe thead th {\n",
       "        text-align: right;\n",
       "    }\n",
       "</style>\n",
       "<table border=\"1\" class=\"dataframe\">\n",
       "  <thead>\n",
       "    <tr style=\"text-align: right;\">\n",
       "      <th></th>\n",
       "      <th>0</th>\n",
       "      <th>1</th>\n",
       "      <th>2</th>\n",
       "      <th>3</th>\n",
       "      <th>4</th>\n",
       "      <th>5</th>\n",
       "      <th>6</th>\n",
       "      <th>7</th>\n",
       "      <th>8</th>\n",
       "      <th>9</th>\n",
       "      <th>...</th>\n",
       "      <th>24</th>\n",
       "      <th>25</th>\n",
       "      <th>26</th>\n",
       "      <th>27</th>\n",
       "      <th>28</th>\n",
       "      <th>29</th>\n",
       "      <th>30</th>\n",
       "      <th>31</th>\n",
       "      <th>32</th>\n",
       "      <th>33</th>\n",
       "    </tr>\n",
       "  </thead>\n",
       "  <tbody>\n",
       "    <tr>\n",
       "      <th>0</th>\n",
       "      <td>1.000000</td>\n",
       "      <td>-0.461549</td>\n",
       "      <td>-0.218570</td>\n",
       "      <td>0.111860</td>\n",
       "      <td>0.990434</td>\n",
       "      <td>0.538453</td>\n",
       "      <td>0.407119</td>\n",
       "      <td>0.801069</td>\n",
       "      <td>-0.459170</td>\n",
       "      <td>-0.403309</td>\n",
       "      <td>...</td>\n",
       "      <td>-0.451631</td>\n",
       "      <td>-0.451561</td>\n",
       "      <td>-0.320629</td>\n",
       "      <td>-0.345456</td>\n",
       "      <td>-0.274902</td>\n",
       "      <td>-0.119447</td>\n",
       "      <td>-0.226148</td>\n",
       "      <td>-0.166971</td>\n",
       "      <td>-0.050819</td>\n",
       "      <td>0.101129</td>\n",
       "    </tr>\n",
       "    <tr>\n",
       "      <th>1</th>\n",
       "      <td>-0.461549</td>\n",
       "      <td>1.000000</td>\n",
       "      <td>0.127599</td>\n",
       "      <td>0.499143</td>\n",
       "      <td>-0.463053</td>\n",
       "      <td>0.476720</td>\n",
       "      <td>-0.162175</td>\n",
       "      <td>-0.053564</td>\n",
       "      <td>0.990349</td>\n",
       "      <td>0.617187</td>\n",
       "      <td>...</td>\n",
       "      <td>0.966394</td>\n",
       "      <td>0.795725</td>\n",
       "      <td>0.928306</td>\n",
       "      <td>0.434131</td>\n",
       "      <td>0.647273</td>\n",
       "      <td>0.765985</td>\n",
       "      <td>0.110745</td>\n",
       "      <td>0.233969</td>\n",
       "      <td>0.390908</td>\n",
       "      <td>0.496688</td>\n",
       "    </tr>\n",
       "    <tr>\n",
       "      <th>2</th>\n",
       "      <td>-0.218570</td>\n",
       "      <td>0.127599</td>\n",
       "      <td>1.000000</td>\n",
       "      <td>0.317929</td>\n",
       "      <td>-0.228724</td>\n",
       "      <td>-0.083961</td>\n",
       "      <td>0.784522</td>\n",
       "      <td>0.030386</td>\n",
       "      <td>0.128024</td>\n",
       "      <td>0.843103</td>\n",
       "      <td>...</td>\n",
       "      <td>0.128843</td>\n",
       "      <td>0.643363</td>\n",
       "      <td>0.196447</td>\n",
       "      <td>0.910270</td>\n",
       "      <td>0.745657</td>\n",
       "      <td>0.259970</td>\n",
       "      <td>0.942159</td>\n",
       "      <td>0.940167</td>\n",
       "      <td>0.760297</td>\n",
       "      <td>0.295148</td>\n",
       "    </tr>\n",
       "    <tr>\n",
       "      <th>3</th>\n",
       "      <td>0.111860</td>\n",
       "      <td>0.499143</td>\n",
       "      <td>0.317929</td>\n",
       "      <td>1.000000</td>\n",
       "      <td>0.092001</td>\n",
       "      <td>0.574535</td>\n",
       "      <td>0.378253</td>\n",
       "      <td>0.670272</td>\n",
       "      <td>0.494511</td>\n",
       "      <td>0.500412</td>\n",
       "      <td>...</td>\n",
       "      <td>0.485299</td>\n",
       "      <td>0.531966</td>\n",
       "      <td>0.712188</td>\n",
       "      <td>0.417924</td>\n",
       "      <td>0.719467</td>\n",
       "      <td>0.901302</td>\n",
       "      <td>0.261667</td>\n",
       "      <td>0.511891</td>\n",
       "      <td>0.810496</td>\n",
       "      <td>0.972025</td>\n",
       "    </tr>\n",
       "    <tr>\n",
       "      <th>4</th>\n",
       "      <td>0.990434</td>\n",
       "      <td>-0.463053</td>\n",
       "      <td>-0.228724</td>\n",
       "      <td>0.092001</td>\n",
       "      <td>1.000000</td>\n",
       "      <td>0.513232</td>\n",
       "      <td>0.381473</td>\n",
       "      <td>0.784334</td>\n",
       "      <td>-0.456294</td>\n",
       "      <td>-0.404766</td>\n",
       "      <td>...</td>\n",
       "      <td>-0.445681</td>\n",
       "      <td>-0.446298</td>\n",
       "      <td>-0.323557</td>\n",
       "      <td>-0.347521</td>\n",
       "      <td>-0.280980</td>\n",
       "      <td>-0.130396</td>\n",
       "      <td>-0.235689</td>\n",
       "      <td>-0.179110</td>\n",
       "      <td>-0.065318</td>\n",
       "      <td>0.086113</td>\n",
       "    </tr>\n",
       "  </tbody>\n",
       "</table>\n",
       "<p>5 rows × 34 columns</p>\n",
       "</div>"
      ],
      "text/plain": [
       "         0         1         2         3         4         5         6   \\\n",
       "0  1.000000 -0.461549 -0.218570  0.111860  0.990434  0.538453  0.407119   \n",
       "1 -0.461549  1.000000  0.127599  0.499143 -0.463053  0.476720 -0.162175   \n",
       "2 -0.218570  0.127599  1.000000  0.317929 -0.228724 -0.083961  0.784522   \n",
       "3  0.111860  0.499143  0.317929  1.000000  0.092001  0.574535  0.378253   \n",
       "4  0.990434 -0.463053 -0.228724  0.092001  1.000000  0.513232  0.381473   \n",
       "\n",
       "         7         8         9   ...        24        25        26        27  \\\n",
       "0  0.801069 -0.459170 -0.403309  ... -0.451631 -0.451561 -0.320629 -0.345456   \n",
       "1 -0.053564  0.990349  0.617187  ...  0.966394  0.795725  0.928306  0.434131   \n",
       "2  0.030386  0.128024  0.843103  ...  0.128843  0.643363  0.196447  0.910270   \n",
       "3  0.670272  0.494511  0.500412  ...  0.485299  0.531966  0.712188  0.417924   \n",
       "4  0.784334 -0.456294 -0.404766  ... -0.445681 -0.446298 -0.323557 -0.347521   \n",
       "\n",
       "         28        29        30        31        32        33  \n",
       "0 -0.274902 -0.119447 -0.226148 -0.166971 -0.050819  0.101129  \n",
       "1  0.647273  0.765985  0.110745  0.233969  0.390908  0.496688  \n",
       "2  0.745657  0.259970  0.942159  0.940167  0.760297  0.295148  \n",
       "3  0.719467  0.901302  0.261667  0.511891  0.810496  0.972025  \n",
       "4 -0.280980 -0.130396 -0.235689 -0.179110 -0.065318  0.086113  \n",
       "\n",
       "[5 rows x 34 columns]"
      ]
     },
     "metadata": {},
     "output_type": "display_data"
    }
   ],
   "source": [
    "#Сгенерируйте полиномиальные признаки третьего порядка на факторах, которые вы выбрали для обучения моделей\n",
    "poly = PolynomialFeatures(degree=3, include_bias=False)\n",
    "X_poly = poly.fit_transform(x)\n",
    "#Матрица корреляций\n",
    "Corr = pd.DataFrame(X_poly).corr()\n",
    "display(Corr.head())"
   ]
  },
  {
   "cell_type": "code",
   "execution_count": 382,
   "metadata": {},
   "outputs": [],
   "source": [
    "#Обучите модель линейной регрессии из библиотеки sklearn (LinearRegression) на полученных полиномиальных факторах.\n",
    "\n",
    "def polynomial_regression(x, y, k):\n",
    "    # Создаем полиномиальные признаки заданной степени k\n",
    "    poly = PolynomialFeatures(degree=k, include_bias=False)\n",
    "    X_poly = poly.fit_transform(x)\n",
    "\n",
    "    # Создаем модель линейной регрессии\n",
    "    lr = LinearRegression()\n",
    "\n",
    "    # Оцениваем качество модели на кросс-валидации, используя MAPE\n",
    "    cv_results = cross_validate(lr, X_poly, y, scoring='neg_mean_absolute_percentage_error', cv=5, return_train_score=True)\n",
    "    \n",
    "    # Изменяем знак и преобразуем результаты к положительным значениям MAPE\n",
    "    train_res = -cv_results[\"train_score\"].mean() * 100\n",
    "    test_res = -cv_results[\"test_score\"].mean() * 100\n",
    "\n",
    "    return X_poly, train_res, test_res\n"
   ]
  },
  {
   "cell_type": "code",
   "execution_count": 383,
   "metadata": {},
   "outputs": [
    {
     "name": "stdout",
     "output_type": "stream",
     "text": [
      "--\n",
      "Порядок полинома: 3\n",
      "MAPE на тренировочных фолдах: 1.773 %\n",
      "MAPE на валидационных фолдах: 2.681 %\n",
      "Ранг корреляционной матрицы: 34\n",
      "Количество факторов: 34\n"
     ]
    }
   ],
   "source": [
    "#Оцените среднее значение метрики MAPE, используя кросс-валидацию на пяти фолдах.\n",
    "k = 3\n",
    "X_poly, train_res, test_res = polynomial_regression(x, y, k)\n",
    "print('--')\n",
    "print(f'Порядок полинома: {k}')\n",
    "print(f'MAPE на тренировочных фолдах: {round(train_res, 3)} %')\n",
    "print(f'MAPE на валидационных фолдах: {round(test_res, 3)} %')\n",
    "\n",
    "# считаем ранг корреляционной матрицы\n",
    "print('Ранг корреляционной матрицы:', np.linalg.matrix_rank(Corr))\n",
    "# считаем количество факторов \n",
    "print('Количество факторов:', X_poly.shape[1])"
   ]
  },
  {
   "cell_type": "markdown",
   "metadata": {},
   "source": [
    "## Задание 3.2"
   ]
  },
  {
   "cell_type": "code",
   "execution_count": 384,
   "metadata": {},
   "outputs": [],
   "source": [
    "# Обучите модель Lasso из библиотеки sklearn на полученных полиномиальных факторах, предварительно стандартизировав факторы с помощью StandardScaler. Коэффициент регуляризации выставите равным 5.\n",
    "\n",
    "#Оцените среднее значение метрики MAPE, используя кросс-валидацию на пяти фолдах.\n",
    "\n",
    "def polynomial_standard_regression_l1_sk(x, y, k, alpha):\n",
    "    # StandardScaler используется для нормализации исходных данных X\n",
    "    scaler = StandardScaler()\n",
    "    # Нормализуем данные, вычисляя и применяя среднее и стандартное отклонение\n",
    "    X_st = scaler.fit_transform(x)\n",
    "\n",
    "    # Генерируем полиномиальные признаки степени k без добавления свободного члена\n",
    "    poly = PolynomialFeatures(degree=k, include_bias=False)\n",
    "    X_poly_st = poly.fit_transform(X_st)\n",
    "\n",
    "    # Инициализируем модель Lasso для линейной регрессии с L1-регуляризацией\n",
    "    lasso = Lasso(alpha=alpha)\n",
    "\n",
    "    # Применяем кросс-валидацию для оценки модели, используя отрицательное значение MAPE\n",
    "    cv_results = cross_validate(\n",
    "        lasso, X_poly_st, y, scoring='neg_mean_absolute_percentage_error', cv=5, return_train_score=True)\n",
    "\n",
    "    # Вычисляем средние значения MAPE на обучающей и тестовой выборках, конвертируя результаты в положительные значения\n",
    "    train_res = -cv_results[\"train_score\"].mean() * 100\n",
    "    test_res = -cv_results[\"test_score\"].mean() * 100\n",
    "\n",
    "    return X_poly_st, train_res, test_res"
   ]
  },
  {
   "cell_type": "code",
   "execution_count": 385,
   "metadata": {},
   "outputs": [
    {
     "name": "stdout",
     "output_type": "stream",
     "text": [
      "--\n",
      "Порядок полинома: 3\n",
      "Значение L1 регуляризации: 5\n",
      "MAPE на тренировочных фолдах: 1.83 %\n",
      "MAPE на валидационных фолдах: 2.28 %\n",
      "Ранг корреляционной матрицы: 34\n",
      "Количество полиномиальных факторов: 34\n"
     ]
    }
   ],
   "source": [
    "# Устанавливаем степень полинома\n",
    "k = 3 \n",
    "# Устанавливаем коэффициент L1 регуляризации\n",
    "alpha = 5 \n",
    "X_poly_st_l1, train_res, test_res = polynomial_standard_regression_l1_sk(x, y, k, alpha)\n",
    "\n",
    "print('--')\n",
    "print(f'Порядок полинома: {k}')\n",
    "print(f'Значение L1 регуляризации: {alpha}')\n",
    "print(f'MAPE на тренировочных фолдах: {round(train_res, 2)} %')\n",
    "print(f'MAPE на валидационных фолдах: {round(test_res, 2)} %')\n",
    "\n",
    "# Вычисление корреляционной матрицы \n",
    "D = pd.DataFrame(X_poly_st_l1).corr()\n",
    "# Определение ранга корреляционной матрицы\n",
    "print('Ранг корреляционной матрицы:', np.linalg.matrix_rank(D))\n",
    "# Подсчет количества полиномиальных факторов\n",
    "print('Количество полиномиальных факторов:', X_poly_st_l1.shape[1])"
   ]
  },
  {
   "cell_type": "markdown",
   "metadata": {},
   "source": [
    "## Задание 3.3"
   ]
  },
  {
   "cell_type": "code",
   "execution_count": 386,
   "metadata": {},
   "outputs": [],
   "source": [
    "#Обучите модель Ridge из библиотеки sklearn на полученных полиномиальных факторах, предварительно стандартизировав факторы с помощью StandardScaler. Коэффициент регуляризации выставите равным 1.\n",
    "\n",
    "#Оцените среднее значение метрики MAPE, используя кросс-валидацию на пяти фолдах.\n",
    "def polynomial_standard_regression_l2(x, y, k, alpha):\n",
    "    # Стандартизация признаков\n",
    "    scaler = StandardScaler()\n",
    "    X_scaled = scaler.fit_transform(x)\n",
    "\n",
    "    # Создание полиномиальных признаков со степенью k\n",
    "    poly = PolynomialFeatures(degree=k, include_bias=False)\n",
    "    X_poly = poly.fit_transform(X_scaled)\n",
    "\n",
    "    # Обучение модели Ridge с заданным коэффициентом регуляризации alpha\n",
    "    ridge = Ridge(alpha=alpha)\n",
    "\n",
    "    # Оценка модели с использованием кросс-валидации и MAPE\n",
    "    cv_results = cross_validate(\n",
    "        ridge, X_poly, y, scoring='neg_mean_absolute_percentage_error', cv=5, return_train_score=True\n",
    "    )\n",
    "    \n",
    "    # Вычисление среднего значения MAPE\n",
    "    train_mape = -cv_results['train_score'].mean() * 100\n",
    "    test_mape = -cv_results['test_score'].mean() * 100\n",
    "\n",
    "    return train_mape, test_mape\n",
    "\n",
    "\n",
    "# k = 3\n",
    "# alpha = 1\n",
    "# train_mape, test_mape = polynomial_standard_regression_l2(X, y, k, alpha)\n",
    "# print(f'Train MAPE: {train_mape}%')\n",
    "# print(f'Test MAPE: {test_mape}%')"
   ]
  },
  {
   "cell_type": "code",
   "execution_count": 387,
   "metadata": {},
   "outputs": [
    {
     "name": "stdout",
     "output_type": "stream",
     "text": [
      "MAPE на тренировочных: 1.83%\n",
      "MAPE на валидационных: 2.72%\n"
     ]
    }
   ],
   "source": [
    "k = 3\n",
    "alpha = 1\n",
    "train_mape, test_mape = polynomial_standard_regression_l2(x, y, k, alpha)\n",
    "print(f'MAPE на тренировочных: {round(train_mape,2)}%')\n",
    "print(f'MAPE на валидационных: {round(test_mape,2)}%')"
   ]
  }
 ],
 "metadata": {
  "kernelspec": {
   "display_name": "Python 3",
   "language": "python",
   "name": "python3"
  },
  "language_info": {
   "codemirror_mode": {
    "name": "ipython",
    "version": 3
   },
   "file_extension": ".py",
   "mimetype": "text/x-python",
   "name": "python",
   "nbconvert_exporter": "python",
   "pygments_lexer": "ipython3",
   "version": "3.11.1"
  }
 },
 "nbformat": 4,
 "nbformat_minor": 2
}
